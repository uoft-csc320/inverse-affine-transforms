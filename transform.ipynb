{
 "cells": [
  {
   "cell_type": "markdown",
   "metadata": {},
   "source": [
    "# Common Affine Transform and their Inverses\n",
    "\n",
    "In this demo, we take a look at several common affine transforms and calculate their inverses:\n",
    "\n",
    "1. Scaling\n",
    "2. Translation\n",
    "3. Shearing\n",
    "4. Rotation"
   ]
  },
  {
   "cell_type": "code",
   "execution_count": 15,
   "metadata": {},
   "outputs": [],
   "source": [
    "import cv2\n",
    "import numpy as np\n",
    "import matplotlib.pylab as plt"
   ]
  },
  {
   "cell_type": "markdown",
   "metadata": {},
   "source": [
    "## Inverses of common transforms\n",
    "### Scaling"
   ]
  },
  {
   "cell_type": "code",
   "execution_count": 21,
   "metadata": {},
   "outputs": [
    {
     "name": "stdout",
     "output_type": "stream",
     "text": [
      "[[0.5 0.  0. ]\n",
      " [0.  0.5 0. ]\n",
      " [0.  0.  1. ]]\n"
     ]
    }
   ],
   "source": [
    "# Scale factors\n",
    "cx = 0.5\n",
    "cy = 0.5\n",
    "\n",
    "# Our scaling matrix\n",
    "A = np.array(\n",
    "    [[cx, 0, 0],\n",
    "    [0, cy, 0],\n",
    "    [0, 0, 1]]\n",
    ")\n",
    "print(A)"
   ]
  },
  {
   "cell_type": "code",
   "execution_count": 20,
   "metadata": {},
   "outputs": [
    {
     "name": "stdout",
     "output_type": "stream",
     "text": [
      "[[2. 0. 0.]\n",
      " [0. 2. 0.]\n",
      " [0. 0. 1.]]\n"
     ]
    }
   ],
   "source": [
    "# let's take a look at the inverse\n",
    "Ainv = np.linalg.inv(A)\n",
    "print(Ainv)"
   ]
  },
  {
   "cell_type": "markdown",
   "metadata": {},
   "source": [
    "### Translation matrix"
   ]
  },
  {
   "cell_type": "code",
   "execution_count": 28,
   "metadata": {},
   "outputs": [
    {
     "name": "stdout",
     "output_type": "stream",
     "text": [
      "[[  1   0 100]\n",
      " [  0   1 100]\n",
      " [  0   0   1]]\n"
     ]
    }
   ],
   "source": [
    "# translation amounts (in pixels)\n",
    "tx = 100\n",
    "ty = 100\n",
    "\n",
    "# Our translation matrix\n",
    "B = np.array(\n",
    "    [[1, 0, tx],\n",
    "    [0, 1, ty],\n",
    "    [0, 0, 1]]\n",
    ")\n",
    "print(B)"
   ]
  },
  {
   "cell_type": "code",
   "execution_count": 24,
   "metadata": {},
   "outputs": [
    {
     "name": "stdout",
     "output_type": "stream",
     "text": [
      "[[   1.    0. -100.]\n",
      " [   0.    1. -100.]\n",
      " [   0.    0.    1.]]\n"
     ]
    }
   ],
   "source": [
    "# let's take a look at the inverse\n",
    "Binv = np.linalg.inv(B)\n",
    "print(Binv)"
   ]
  },
  {
   "cell_type": "markdown",
   "metadata": {},
   "source": [
    "### Rotation matrix"
   ]
  },
  {
   "cell_type": "code",
   "execution_count": 26,
   "metadata": {},
   "outputs": [
    {
     "name": "stdout",
     "output_type": "stream",
     "text": [
      "[[ 0.70710678 -0.70710678  0.        ]\n",
      " [ 0.70710678  0.70710678  0.        ]\n",
      " [ 0.          0.          1.        ]]\n"
     ]
    }
   ],
   "source": [
    "# Define angle of rotation\n",
    "angle = 45\n",
    "\n",
    "# Convert to radians\n",
    "angle = angle * np.pi / 180\n",
    "\n",
    "# Define rotation matrix\n",
    "R = np.array(\n",
    "    [[np.cos(angle), -np.sin(angle), 0],\n",
    "    [np.sin(angle), np.cos(angle), 0],\n",
    "    [0, 0, 1]]\n",
    ")\n",
    "print(R)"
   ]
  },
  {
   "cell_type": "code",
   "execution_count": 27,
   "metadata": {},
   "outputs": [
    {
     "name": "stdout",
     "output_type": "stream",
     "text": [
      "[[ 0.70710678  0.70710678  0.        ]\n",
      " [-0.70710678  0.70710678  0.        ]\n",
      " [ 0.          0.          1.        ]]\n"
     ]
    }
   ],
   "source": [
    "# let's take a look at the inverse\n",
    "Rinv = np.linalg.inv(R)\n",
    "print(Rinv)"
   ]
  },
  {
   "cell_type": "markdown",
   "metadata": {},
   "source": [
    "### Shearing matrix (vertical)"
   ]
  },
  {
   "cell_type": "code",
   "execution_count": 29,
   "metadata": {},
   "outputs": [
    {
     "name": "stdout",
     "output_type": "stream",
     "text": [
      "[[1.  0.5 0. ]\n",
      " [0.  1.  0. ]\n",
      " [0.  0.  1. ]]\n"
     ]
    }
   ],
   "source": [
    "# Shear factors\n",
    "sv = 0.5\n",
    "\n",
    "# Define shear matrix\n",
    "S = np.array(\n",
    "    [[1, sv, 0],\n",
    "    [0, 1, 0],\n",
    "    [0, 0, 1]]\n",
    ")\n",
    "print(S)"
   ]
  },
  {
   "cell_type": "code",
   "execution_count": 30,
   "metadata": {},
   "outputs": [
    {
     "name": "stdout",
     "output_type": "stream",
     "text": [
      "[[ 1.  -0.5  0. ]\n",
      " [ 0.   1.   0. ]\n",
      " [ 0.   0.   1. ]]\n"
     ]
    }
   ],
   "source": [
    "# let's take a look at the inverse\n",
    "Sinv = np.linalg.inv(S)\n",
    "print(Sinv)"
   ]
  },
  {
   "cell_type": "code",
   "execution_count": null,
   "metadata": {},
   "outputs": [],
   "source": []
  }
 ],
 "metadata": {
  "kernelspec": {
   "display_name": "Python 3.6.12 ('hdr')",
   "language": "python",
   "name": "python3"
  },
  "language_info": {
   "codemirror_mode": {
    "name": "ipython",
    "version": 3
   },
   "file_extension": ".py",
   "mimetype": "text/x-python",
   "name": "python",
   "nbconvert_exporter": "python",
   "pygments_lexer": "ipython3",
   "version": "3.6.12"
  },
  "orig_nbformat": 4,
  "vscode": {
   "interpreter": {
    "hash": "d8822b54a808e4727d72313fb4d94405cc6ad8110b8f7eee6946bea8e401789f"
   }
  }
 },
 "nbformat": 4,
 "nbformat_minor": 2
}
